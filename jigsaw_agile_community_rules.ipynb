{
 "cells": [
  {
   "cell_type": "markdown",
   "id": "cbae8856",
   "metadata": {},
   "source": [
    "# Phase 1 : Exploratory Data Analysis (EDA)"
   ]
  },
  {
   "cell_type": "code",
   "execution_count": 1,
   "id": "460f8c27",
   "metadata": {},
   "outputs": [],
   "source": [
    "import pandas as pd\n",
    "import numpy as np"
   ]
  },
  {
   "cell_type": "code",
   "execution_count": 2,
   "id": "191a930f",
   "metadata": {},
   "outputs": [],
   "source": [
    "train = pd.read_csv(\"train.csv\")\n",
    "test =  pd.read_csv(\"test.csv\")"
   ]
  },
  {
   "cell_type": "code",
   "execution_count": 9,
   "id": "1687ff3b",
   "metadata": {},
   "outputs": [
    {
     "name": "stdout",
     "output_type": "stream",
     "text": [
      "<class 'pandas.core.frame.DataFrame'>\n",
      "RangeIndex: 2029 entries, 0 to 2028\n",
      "Data columns (total 9 columns):\n",
      " #   Column              Non-Null Count  Dtype \n",
      "---  ------              --------------  ----- \n",
      " 0   row_id              2029 non-null   int64 \n",
      " 1   body                2029 non-null   object\n",
      " 2   rule                2029 non-null   object\n",
      " 3   subreddit           2029 non-null   object\n",
      " 4   positive_example_1  2029 non-null   object\n",
      " 5   positive_example_2  2029 non-null   object\n",
      " 6   negative_example_1  2029 non-null   object\n",
      " 7   negative_example_2  2029 non-null   object\n",
      " 8   rule_violation      2029 non-null   int64 \n",
      "dtypes: int64(2), object(7)\n",
      "memory usage: 142.8+ KB\n"
     ]
    },
    {
     "data": {
      "text/plain": [
       "(2029, 9)"
      ]
     },
     "execution_count": 9,
     "metadata": {},
     "output_type": "execute_result"
    }
   ],
   "source": [
    "train.info()\n",
    "train.shape"
   ]
  },
  {
   "cell_type": "code",
   "execution_count": 10,
   "id": "667bf530",
   "metadata": {},
   "outputs": [
    {
     "name": "stdout",
     "output_type": "stream",
     "text": [
      "<class 'pandas.core.frame.DataFrame'>\n",
      "RangeIndex: 10 entries, 0 to 9\n",
      "Data columns (total 8 columns):\n",
      " #   Column              Non-Null Count  Dtype \n",
      "---  ------              --------------  ----- \n",
      " 0   row_id              10 non-null     int64 \n",
      " 1   body                10 non-null     object\n",
      " 2   rule                10 non-null     object\n",
      " 3   subreddit           10 non-null     object\n",
      " 4   positive_example_1  10 non-null     object\n",
      " 5   positive_example_2  10 non-null     object\n",
      " 6   negative_example_1  10 non-null     object\n",
      " 7   negative_example_2  10 non-null     object\n",
      "dtypes: int64(1), object(7)\n",
      "memory usage: 772.0+ bytes\n"
     ]
    },
    {
     "data": {
      "text/plain": [
       "(10, 8)"
      ]
     },
     "execution_count": 10,
     "metadata": {},
     "output_type": "execute_result"
    }
   ],
   "source": [
    "test.info()\n",
    "test.shape"
   ]
  },
  {
   "cell_type": "markdown",
   "id": "6611e661",
   "metadata": {},
   "source": [
    "### On comparing train and test datasets we can conclude that \"rule_violation\" is the output(Y) required and \"rule\" and \"body\" are the inputs(X) to be considered while training the model.  "
   ]
  },
  {
   "cell_type": "code",
   "execution_count": 11,
   "id": "e785fb24",
   "metadata": {},
   "outputs": [
    {
     "data": {
      "text/plain": [
       "row_id                0\n",
       "body                  0\n",
       "rule                  0\n",
       "subreddit             0\n",
       "positive_example_1    0\n",
       "positive_example_2    0\n",
       "negative_example_1    0\n",
       "negative_example_2    0\n",
       "rule_violation        0\n",
       "dtype: int64"
      ]
     },
     "execution_count": 11,
     "metadata": {},
     "output_type": "execute_result"
    }
   ],
   "source": [
    "train.isna().sum()"
   ]
  },
  {
   "cell_type": "code",
   "execution_count": 12,
   "id": "f305c46c",
   "metadata": {},
   "outputs": [
    {
     "data": {
      "text/plain": [
       "row_id                0\n",
       "body                  0\n",
       "rule                  0\n",
       "subreddit             0\n",
       "positive_example_1    0\n",
       "positive_example_2    0\n",
       "negative_example_1    0\n",
       "negative_example_2    0\n",
       "dtype: int64"
      ]
     },
     "execution_count": 12,
     "metadata": {},
     "output_type": "execute_result"
    }
   ],
   "source": [
    "test.isna().sum()"
   ]
  },
  {
   "cell_type": "code",
   "execution_count": 14,
   "id": "12ec8f24",
   "metadata": {},
   "outputs": [
    {
     "data": {
      "text/plain": [
       "row_id                 int64\n",
       "body                  object\n",
       "rule                  object\n",
       "subreddit             object\n",
       "positive_example_1    object\n",
       "positive_example_2    object\n",
       "negative_example_1    object\n",
       "negative_example_2    object\n",
       "rule_violation         int64\n",
       "dtype: object"
      ]
     },
     "execution_count": 14,
     "metadata": {},
     "output_type": "execute_result"
    }
   ],
   "source": [
    "train.dtypes"
   ]
  },
  {
   "cell_type": "code",
   "execution_count": 15,
   "id": "6548a11d",
   "metadata": {},
   "outputs": [
    {
     "data": {
      "text/plain": [
       "row_id                 int64\n",
       "body                  object\n",
       "rule                  object\n",
       "subreddit             object\n",
       "positive_example_1    object\n",
       "positive_example_2    object\n",
       "negative_example_1    object\n",
       "negative_example_2    object\n",
       "dtype: object"
      ]
     },
     "execution_count": 15,
     "metadata": {},
     "output_type": "execute_result"
    }
   ],
   "source": [
    "test.dtypes"
   ]
  },
  {
   "cell_type": "code",
   "execution_count": 17,
   "id": "d07b0fb1",
   "metadata": {},
   "outputs": [
    {
     "data": {
      "text/plain": [
       "np.int64(0)"
      ]
     },
     "execution_count": 17,
     "metadata": {},
     "output_type": "execute_result"
    }
   ],
   "source": [
    "train.duplicated().sum()"
   ]
  },
  {
   "cell_type": "code",
   "execution_count": 18,
   "id": "4b2150bd",
   "metadata": {},
   "outputs": [
    {
     "data": {
      "text/plain": [
       "np.int64(0)"
      ]
     },
     "execution_count": 18,
     "metadata": {},
     "output_type": "execute_result"
    }
   ],
   "source": [
    "test.duplicated().sum()"
   ]
  },
  {
   "cell_type": "code",
   "execution_count": 19,
   "id": "8bc156ac",
   "metadata": {},
   "outputs": [
    {
     "data": {
      "text/plain": [
       "rule\n",
       "No legal advice: Do not offer or request legal advice.                                                     0.501232\n",
       "No Advertising: Spam, referral links, unsolicited advertising, and promotional content are not allowed.    0.498768\n",
       "Name: proportion, dtype: float64"
      ]
     },
     "execution_count": 19,
     "metadata": {},
     "output_type": "execute_result"
    }
   ],
   "source": [
    "train[\"rule\"].value_counts(normalize=True)"
   ]
  },
  {
   "cell_type": "code",
   "execution_count": 20,
   "id": "bb98f7d5",
   "metadata": {},
   "outputs": [
    {
     "data": {
      "text/plain": [
       "rule_violation\n",
       "1    0.508132\n",
       "0    0.491868\n",
       "Name: proportion, dtype: float64"
      ]
     },
     "execution_count": 20,
     "metadata": {},
     "output_type": "execute_result"
    }
   ],
   "source": [
    "train[\"rule_violation\"].value_counts(normalize=True)"
   ]
  },
  {
   "cell_type": "markdown",
   "id": "6144366e",
   "metadata": {},
   "source": [
    "## Let's create Text-based numeric features :"
   ]
  },
  {
   "cell_type": "code",
   "execution_count": 24,
   "id": "1a55e02c",
   "metadata": {},
   "outputs": [],
   "source": [
    "train['char_count'] = train['body'].str.len()\n",
    "train['word_count'] = train['body'].str.split().apply(len)\n",
    "train['avg_word_len'] = train['char_count'] / train['word_count']\n",
    "train['num_exclaims'] = train['body'].str.count('!')\n",
    "train['num_questions'] = train['body'].str.count('\\?')\n",
    "train['num_caps'] = train['body'].str.findall(r'[A-Z]').apply(len)\n",
    "train['num_digits'] = train['body'].str.count('\\d')\n",
    "train['num_urls'] = train['body'].str.count('http[s]?://')\n",
    "train['num_mentions'] = train['body'].str.count('@')\n",
    "train['num_hashtags'] = train['body'].str.count('#')"
   ]
  },
  {
   "cell_type": "code",
   "execution_count": 28,
   "id": "a136eb7d",
   "metadata": {},
   "outputs": [
    {
     "data": {
      "text/html": [
       "<div>\n",
       "<style scoped>\n",
       "    .dataframe tbody tr th:only-of-type {\n",
       "        vertical-align: middle;\n",
       "    }\n",
       "\n",
       "    .dataframe tbody tr th {\n",
       "        vertical-align: top;\n",
       "    }\n",
       "\n",
       "    .dataframe thead th {\n",
       "        text-align: right;\n",
       "    }\n",
       "</style>\n",
       "<table border=\"1\" class=\"dataframe\">\n",
       "  <thead>\n",
       "    <tr style=\"text-align: right;\">\n",
       "      <th>rule_violation</th>\n",
       "      <th>0</th>\n",
       "      <th>1</th>\n",
       "    </tr>\n",
       "  </thead>\n",
       "  <tbody>\n",
       "    <tr>\n",
       "      <th>char_count</th>\n",
       "      <td>157.588176</td>\n",
       "      <td>195.481086</td>\n",
       "    </tr>\n",
       "    <tr>\n",
       "      <th>word_count</th>\n",
       "      <td>23.134269</td>\n",
       "      <td>32.637245</td>\n",
       "    </tr>\n",
       "    <tr>\n",
       "      <th>avg_word_len</th>\n",
       "      <td>9.174216</td>\n",
       "      <td>7.092692</td>\n",
       "    </tr>\n",
       "    <tr>\n",
       "      <th>num_exclaims</th>\n",
       "      <td>0.228457</td>\n",
       "      <td>0.281280</td>\n",
       "    </tr>\n",
       "    <tr>\n",
       "      <th>num_questions</th>\n",
       "      <td>0.292585</td>\n",
       "      <td>0.272551</td>\n",
       "    </tr>\n",
       "    <tr>\n",
       "      <th>num_caps</th>\n",
       "      <td>8.191383</td>\n",
       "      <td>7.843841</td>\n",
       "    </tr>\n",
       "    <tr>\n",
       "      <th>num_digits</th>\n",
       "      <td>2.900802</td>\n",
       "      <td>2.775946</td>\n",
       "    </tr>\n",
       "    <tr>\n",
       "      <th>num_urls</th>\n",
       "      <td>0.592184</td>\n",
       "      <td>0.365664</td>\n",
       "    </tr>\n",
       "    <tr>\n",
       "      <th>num_mentions</th>\n",
       "      <td>0.012024</td>\n",
       "      <td>0.018429</td>\n",
       "    </tr>\n",
       "    <tr>\n",
       "      <th>num_hashtags</th>\n",
       "      <td>0.044088</td>\n",
       "      <td>0.061106</td>\n",
       "    </tr>\n",
       "  </tbody>\n",
       "</table>\n",
       "</div>"
      ],
      "text/plain": [
       "rule_violation           0           1\n",
       "char_count      157.588176  195.481086\n",
       "word_count       23.134269   32.637245\n",
       "avg_word_len      9.174216    7.092692\n",
       "num_exclaims      0.228457    0.281280\n",
       "num_questions     0.292585    0.272551\n",
       "num_caps          8.191383    7.843841\n",
       "num_digits        2.900802    2.775946\n",
       "num_urls          0.592184    0.365664\n",
       "num_mentions      0.012024    0.018429\n",
       "num_hashtags      0.044088    0.061106"
      ]
     },
     "execution_count": 28,
     "metadata": {},
     "output_type": "execute_result"
    }
   ],
   "source": [
    "train.groupby(\"rule_violation\")[[\n",
    "    'char_count', 'word_count', 'avg_word_len',\n",
    "    'num_exclaims', 'num_questions', 'num_caps',\n",
    "    'num_digits', 'num_urls', 'num_mentions', 'num_hashtags'\n",
    "]].mean().T\n"
   ]
  },
  {
   "cell_type": "markdown",
   "id": "1153c0f7",
   "metadata": {},
   "source": [
    "## Parameter's to check for :\n",
    "\n",
    "1.) Are violating comments longer?\n",
    "-------- Yes ---------\n",
    "\n",
    "2.) Do they have more exclamation marks?\n",
    "-------- Yes ---------\n",
    "\n",
    "3.) Do they contain more uppercase letters (shouting)?\n",
    "-------- No ----------\n",
    "\n",
    "4.) Do the violating comments contain more URLs (possibly spam)?\n",
    "-------- No ----------"
   ]
  },
  {
   "cell_type": "code",
   "execution_count": 31,
   "id": "a0924e07",
   "metadata": {},
   "outputs": [
    {
     "data": {
      "text/html": [
       "<div>\n",
       "<style scoped>\n",
       "    .dataframe tbody tr th:only-of-type {\n",
       "        vertical-align: middle;\n",
       "    }\n",
       "\n",
       "    .dataframe tbody tr th {\n",
       "        vertical-align: top;\n",
       "    }\n",
       "\n",
       "    .dataframe thead th {\n",
       "        text-align: right;\n",
       "    }\n",
       "</style>\n",
       "<table border=\"1\" class=\"dataframe\">\n",
       "  <thead>\n",
       "    <tr style=\"text-align: right;\">\n",
       "      <th></th>\n",
       "      <th>Not Violated (0)</th>\n",
       "      <th>Violated (1)</th>\n",
       "    </tr>\n",
       "    <tr>\n",
       "      <th>rule</th>\n",
       "      <th></th>\n",
       "      <th></th>\n",
       "    </tr>\n",
       "  </thead>\n",
       "  <tbody>\n",
       "    <tr>\n",
       "      <th>No legal advice: Do not offer or request legal advice.</th>\n",
       "      <td>0.416912</td>\n",
       "      <td>0.583088</td>\n",
       "    </tr>\n",
       "    <tr>\n",
       "      <th>No Advertising: Spam, referral links, unsolicited advertising, and promotional content are not allowed.</th>\n",
       "      <td>0.567194</td>\n",
       "      <td>0.432806</td>\n",
       "    </tr>\n",
       "  </tbody>\n",
       "</table>\n",
       "</div>"
      ],
      "text/plain": [
       "                                                    Not Violated (0)  \\\n",
       "rule                                                                   \n",
       "No legal advice: Do not offer or request legal ...          0.416912   \n",
       "No Advertising: Spam, referral links, unsolicit...          0.567194   \n",
       "\n",
       "                                                    Violated (1)  \n",
       "rule                                                              \n",
       "No legal advice: Do not offer or request legal ...      0.583088  \n",
       "No Advertising: Spam, referral links, unsolicit...      0.432806  "
      ]
     },
     "execution_count": 31,
     "metadata": {},
     "output_type": "execute_result"
    }
   ],
   "source": [
    "rule_violation_by_rule = train.groupby(\"rule\")[\"rule_violation\"].value_counts(normalize=True).unstack()\n",
    "rule_violation_by_rule.columns = ['Not Violated (0)', 'Violated (1)']\n",
    "rule_violation_by_rule = rule_violation_by_rule.sort_values(\"Violated (1)\", ascending=False)\n",
    "rule_violation_by_rule\n"
   ]
  },
  {
   "cell_type": "code",
   "execution_count": 32,
   "id": "e73118d9",
   "metadata": {},
   "outputs": [
    {
     "data": {
      "image/png": "[encoded data removed]",
      "text/plain": [
       "<Figure size 1000x600 with 1 Axes>"
      ]
     },
     "metadata": {},
     "output_type": "display_data"
    }
   ],
   "source": [
    "import matplotlib.pyplot as plt\n",
    "\n",
    "rule_violation_by_rule[\"Violated (1)\"].plot(kind='barh', figsize=(10, 6), color='salmon')\n",
    "plt.xlabel(\"Violation Rate\")\n",
    "plt.title(\"Rule Violation Rate by Rule\")\n",
    "plt.gca().invert_yaxis()\n",
    "plt.show()\n"
   ]
  },
  {
   "cell_type": "code",
   "execution_count": null,
   "id": "58ee65c4",
   "metadata": {},
   "outputs": [],
   "source": []
  },
  {
   "cell_type": "code",
   "execution_count": null,
   "id": "5f5d0a6a",
   "metadata": {},
   "outputs": [],
   "source": []
  },
  {
   "cell_type": "code",
   "execution_count": null,
   "id": "3bdef4d9",
   "metadata": {},
   "outputs": [],
   "source": []
  },
  {
   "cell_type": "code",
   "execution_count": null,
   "id": "25cf8a94",
   "metadata": {},
   "outputs": [],
   "source": []
  }
 ],
 "metadata": {
  "kernelspec": {
   "display_name": "Python 3",
   "language": "python",
   "name": "python3"
  },
  "language_info": {
   "codemirror_mode": {
    "name": "ipython",
    "version": 3
   },
   "file_extension": ".py",
   "mimetype": "text/x-python",
   "name": "python",
   "nbconvert_exporter": "python",
   "pygments_lexer": "ipython3",
   "version": "3.11.4"
  }
 },
 "nbformat": 4,
 "nbformat_minor": 5
}
